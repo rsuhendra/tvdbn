{
 "cells": [
  {
   "cell_type": "code",
   "execution_count": 1,
   "id": "6750708c",
   "metadata": {
    "ExecuteTime": {
     "end_time": "2022-03-13T09:54:43.395206Z",
     "start_time": "2022-03-13T09:54:41.665287Z"
    }
   },
   "outputs": [],
   "source": [
    "import numpy as np\n",
    "import matplotlib.pyplot as plt\n",
    "import pandas as pd\n",
    "from sklearn import linear_model"
   ]
  },
  {
   "cell_type": "code",
   "execution_count": 2,
   "id": "ceb6d552",
   "metadata": {
    "ExecuteTime": {
     "end_time": "2022-03-13T09:54:43.398678Z",
     "start_time": "2022-03-13T09:54:43.396493Z"
    }
   },
   "outputs": [],
   "source": [
    "def Kh(h,t):\n",
    "    return np.exp(-t**2/h)\n",
    "def w(h,ts,T):\n",
    "    vec = Kh(h, np.arange(1,T+1)-ts)\n",
    "    return vec/np.sum(vec)"
   ]
  },
  {
   "cell_type": "code",
   "execution_count": 3,
   "id": "3b9becb9",
   "metadata": {
    "ExecuteTime": {
     "end_time": "2022-03-13T09:54:43.405366Z",
     "start_time": "2022-03-13T09:54:43.399612Z"
    }
   },
   "outputs": [],
   "source": [
    "def tvdbn_sa(X,h,lam,tol=1e-7):\n",
    "    tol=1e-7\n",
    "    p = X.shape[0]\n",
    "    T = X.shape[1]-1\n",
    "    h = T/mid\n",
    "    A0 = np.random.normal(size=(p,p))\n",
    "    allA = [A0]\n",
    "    allA.extend([np.zeros((p,p)) for i in range(T)])\n",
    "    for i in range(p):\n",
    "        for ts in range(1,T+1):\n",
    "            allA[ts][i,:]=allA[ts-1][i,:]\n",
    "            sq_wt = np.sqrt(w(h,ts,T))\n",
    "            y = X[i,1:]*sq_wt\n",
    "            Y = X[:,:-1]*sq_wt\n",
    "            while True:\n",
    "                prev = np.copy(allA[ts][i,:])\n",
    "                for j in range(p):\n",
    "                    Pj = allA[ts][i,:]@Y - allA[ts][i,j]*Y[j,:] - y\n",
    "                    Sj = (2/T)*np.dot(Pj, Y[j,:])\n",
    "                    bj = (2/T)*np.dot(Y[j,:],Y[j,:])\n",
    "                    allA[ts][i,j]= (np.abs(Sj)>lam)*(np.sign(Sj-lam)*lam-Sj)/bj     \n",
    "                if np.linalg.norm(prev-allA[ts][i,:],np.inf)<tol:\n",
    "                    break\n",
    "    _ = allA.pop(0)\n",
    "    return allA"
   ]
  },
  {
   "cell_type": "code",
   "execution_count": 4,
   "id": "6ecf4551",
   "metadata": {
    "ExecuteTime": {
     "end_time": "2022-03-13T09:54:43.410131Z",
     "start_time": "2022-03-13T09:54:43.406793Z"
    }
   },
   "outputs": [],
   "source": [
    "def tvdbn(X,h,lam):\n",
    "    p = X.shape[0]\n",
    "    T = X.shape[1]-1\n",
    "    allA = []\n",
    "    allA.extend([np.zeros((p,p)) for i in range(T)])\n",
    "    for i in range(p):\n",
    "        for ts in range(1,T+1):\n",
    "            sq_wt = np.sqrt(w(h,ts,T))\n",
    "            y = X[i,1:]*sq_wt\n",
    "            Y = X[:,:-1]*sq_wt\n",
    "            clf = linear_model.Lasso(alpha=lam/2,fit_intercept=False)\n",
    "            clf.fit(Y.T, y)\n",
    "            allA[ts-1][i,:]=clf.coef_\n",
    "    return allA"
   ]
  },
  {
   "cell_type": "markdown",
   "id": "a47065d1",
   "metadata": {},
   "source": [
    "### Stationary data"
   ]
  },
  {
   "cell_type": "code",
   "execution_count": 5,
   "id": "31908c0e",
   "metadata": {
    "ExecuteTime": {
     "end_time": "2022-03-13T09:22:08.813006Z",
     "start_time": "2022-03-13T09:22:08.801410Z"
    }
   },
   "outputs": [],
   "source": [
    "A1 = np.array([[0,1,0],[0,0,1],[1,0,0]]) \n",
    "T=7\n",
    "As=[]\n",
    "for i in range(T):\n",
    "    As.append(A1)\n",
    "X=np.zeros((3,len(As)+1))\n",
    "X[:,0]=np.random.normal(size=3)\n",
    "for i in range(len(As)):\n",
    "    X[:,i+1]= As[i]@X[:,i] + 0.1*np.random.normal(size=3)"
   ]
  },
  {
   "cell_type": "code",
   "execution_count": 6,
   "id": "1e4c93a7",
   "metadata": {
    "ExecuteTime": {
     "end_time": "2022-03-13T09:22:09.171098Z",
     "start_time": "2022-03-13T09:22:09.142672Z"
    }
   },
   "outputs": [
    {
     "name": "stdout",
     "output_type": "stream",
     "text": [
      "A_1\n",
      "[[0 1 0]\n",
      " [0 0 1]\n",
      " [1 0 0]]\n",
      "A_1 estimate\n",
      "[[ 0.00796336  0.35926725 -0.        ]\n",
      " [ 0.         -0.          0.6946455 ]\n",
      " [ 0.76302244  0.         -0.        ]]\n",
      "$$$$$$$$$$$$$$$$$$$$$$$$$$$$$$$$$$$$$$$$$\n",
      "A_2\n",
      "[[0 1 0]\n",
      " [0 0 1]\n",
      " [1 0 0]]\n",
      "A_2 estimate\n",
      "[[ 0.          0.63069727 -0.        ]\n",
      " [ 0.         -0.          0.7466979 ]\n",
      " [ 0.64891978  0.         -0.        ]]\n",
      "$$$$$$$$$$$$$$$$$$$$$$$$$$$$$$$$$$$$$$$$$\n",
      "A_3\n",
      "[[0 1 0]\n",
      " [0 0 1]\n",
      " [1 0 0]]\n",
      "A_3 estimate\n",
      "[[-0.          0.72620952  0.        ]\n",
      " [ 0.          0.          0.65796963]\n",
      " [ 0.68842746 -0.         -0.        ]]\n",
      "$$$$$$$$$$$$$$$$$$$$$$$$$$$$$$$$$$$$$$$$$\n",
      "A_4\n",
      "[[0 1 0]\n",
      " [0 0 1]\n",
      " [1 0 0]]\n",
      "A_4 estimate\n",
      "[[ 0.          0.65021627  0.        ]\n",
      " [ 0.          0.          0.67323105]\n",
      " [ 0.7959302   0.         -0.        ]]\n",
      "$$$$$$$$$$$$$$$$$$$$$$$$$$$$$$$$$$$$$$$$$\n",
      "A_5\n",
      "[[0 1 0]\n",
      " [0 0 1]\n",
      " [1 0 0]]\n",
      "A_5 estimate\n",
      "[[ 0.          0.69832202  0.        ]\n",
      " [ 0.          0.          0.75731756]\n",
      " [ 0.70461234  0.         -0.        ]]\n",
      "$$$$$$$$$$$$$$$$$$$$$$$$$$$$$$$$$$$$$$$$$\n",
      "A_6\n",
      "[[0 1 0]\n",
      " [0 0 1]\n",
      " [1 0 0]]\n",
      "A_6 estimate\n",
      "[[ 0.          0.80852551  0.        ]\n",
      " [-0.          0.          0.64128157]\n",
      " [ 0.74999557  0.         -0.        ]]\n",
      "$$$$$$$$$$$$$$$$$$$$$$$$$$$$$$$$$$$$$$$$$\n",
      "A_7\n",
      "[[0 1 0]\n",
      " [0 0 1]\n",
      " [1 0 0]]\n",
      "A_7 estimate\n",
      "[[ 0.          0.76992106  0.        ]\n",
      " [-0.          0.          0.        ]\n",
      " [ 0.8926479   0.         -0.        ]]\n",
      "$$$$$$$$$$$$$$$$$$$$$$$$$$$$$$$$$$$$$$$$$\n"
     ]
    }
   ],
   "source": [
    "lam=0.1\n",
    "h=2\n",
    "allA=tvdbn(X,h,lam)\n",
    "for i in range(len(As)):\n",
    "    print(f'A_{i+1}')\n",
    "    print(As[i])\n",
    "    print(f'A_{i+1} estimate')\n",
    "    print(allA[i])\n",
    "    print('$$$$$$$$$$$$$$$$$$$$$$$$$$$$$$$$$$$$$$$$$')"
   ]
  },
  {
   "cell_type": "markdown",
   "id": "d280d907",
   "metadata": {},
   "source": [
    "### Time varying"
   ]
  },
  {
   "cell_type": "code",
   "execution_count": 18,
   "id": "6add1c09",
   "metadata": {
    "ExecuteTime": {
     "end_time": "2022-03-13T09:35:24.598878Z",
     "start_time": "2022-03-13T09:35:24.582884Z"
    }
   },
   "outputs": [],
   "source": [
    "A1 = np.array([[0,1,0],[0,0,1],[1,0,0]]) \n",
    "A2 = np.array([[0,1,0],[0,0.5,0.5],[1,0,0]]) \n",
    "A3 = np.array([[0,1,0],[0,0,1],[0.5,0.5,0]]) \n",
    "bigA = [A1,A2,A1]\n",
    "\n",
    "mid=3\n",
    "As=[]\n",
    "for i in range(len(bigA)-1):\n",
    "    for j in range(mid):\n",
    "        As.append(bigA[i]+(j/mid)*(bigA[i+1]-bigA[i]))\n",
    "As.append(bigA[-1])\n",
    "X=np.zeros((3,len(As)+1))\n",
    "X[:,0]=np.random.normal(size=3)\n",
    "for i in range(len(As)):\n",
    "    X[:,i+1]= As[i]@X[:,i] + 0.1*np.random.normal(size=3)"
   ]
  },
  {
   "cell_type": "code",
   "execution_count": 22,
   "id": "11d2f3c7",
   "metadata": {
    "ExecuteTime": {
     "end_time": "2022-03-13T09:50:51.870936Z",
     "start_time": "2022-03-13T09:50:51.843939Z"
    }
   },
   "outputs": [
    {
     "name": "stdout",
     "output_type": "stream",
     "text": [
      "A_1\n",
      "[[0. 1. 0.]\n",
      " [0. 0. 1.]\n",
      " [1. 0. 0.]]\n",
      "A_1 estimate\n",
      "[[-0.          0.02976844 -0.        ]\n",
      " [-0.          0.          0.60668264]\n",
      " [ 0.86151639  0.          0.        ]]\n",
      "$$$$$$$$$$$$$$$$$$$$$$$$$$$$$$$$$$$$$$$$$\n",
      "A_2\n",
      "[[0.         1.         0.        ]\n",
      " [0.         0.16666667 0.83333333]\n",
      " [1.         0.         0.        ]]\n",
      "A_2 estimate\n",
      "[[-0.          0.65915357 -0.        ]\n",
      " [-0.          0.          0.62883371]\n",
      " [ 0.76716813 -0.          0.        ]]\n",
      "$$$$$$$$$$$$$$$$$$$$$$$$$$$$$$$$$$$$$$$$$\n",
      "A_3\n",
      "[[0.         1.         0.        ]\n",
      " [0.         0.33333333 0.66666667]\n",
      " [1.         0.         0.        ]]\n",
      "A_3 estimate\n",
      "[[-0.          0.77696653 -0.        ]\n",
      " [ 0.          0.039898    0.54753785]\n",
      " [ 0.67529452  0.          0.        ]]\n",
      "$$$$$$$$$$$$$$$$$$$$$$$$$$$$$$$$$$$$$$$$$\n",
      "A_4\n",
      "[[0.  1.  0. ]\n",
      " [0.  0.5 0.5]\n",
      " [1.  0.  0. ]]\n",
      "A_4 estimate\n",
      "[[0.         0.68126913 0.        ]\n",
      " [0.         0.         0.4094491 ]\n",
      " [0.69974346 0.         0.        ]]\n",
      "$$$$$$$$$$$$$$$$$$$$$$$$$$$$$$$$$$$$$$$$$\n",
      "A_5\n",
      "[[0.         1.         0.        ]\n",
      " [0.         0.33333333 0.66666667]\n",
      " [1.         0.         0.        ]]\n",
      "A_5 estimate\n",
      "[[0.         0.48995911 0.        ]\n",
      " [0.         0.         0.43619353]\n",
      " [0.62601129 0.         0.        ]]\n",
      "$$$$$$$$$$$$$$$$$$$$$$$$$$$$$$$$$$$$$$$$$\n",
      "A_6\n",
      "[[0.         1.         0.        ]\n",
      " [0.         0.16666667 0.83333333]\n",
      " [1.         0.         0.        ]]\n",
      "A_6 estimate\n",
      "[[0.         0.51143912 0.        ]\n",
      " [0.         0.         0.39100068]\n",
      " [0.46837497 0.         0.        ]]\n",
      "$$$$$$$$$$$$$$$$$$$$$$$$$$$$$$$$$$$$$$$$$\n",
      "A_7\n",
      "[[0 1 0]\n",
      " [0 0 1]\n",
      " [1 0 0]]\n",
      "A_7 estimate\n",
      "[[0.         0.49897337 0.        ]\n",
      " [0.         0.05742796 0.05348103]\n",
      " [0.5252596  0.         0.        ]]\n",
      "$$$$$$$$$$$$$$$$$$$$$$$$$$$$$$$$$$$$$$$$$\n"
     ]
    }
   ],
   "source": [
    "lam=0.05\n",
    "T = X.shape[1]-1\n",
    "h=T/mid\n",
    "allA=tvdbn(X,h,lam)\n",
    "for i in range(len(As)):\n",
    "    print(f'A_{i+1}')\n",
    "    print(As[i])\n",
    "    print(f'A_{i+1} estimate')\n",
    "    print(allA[i])\n",
    "    print('$$$$$$$$$$$$$$$$$$$$$$$$$$$$$$$$$$$$$$$$$')"
   ]
  },
  {
   "cell_type": "markdown",
   "id": "9166ed2d",
   "metadata": {},
   "source": [
    "### Bad output"
   ]
  },
  {
   "cell_type": "code",
   "execution_count": 5,
   "id": "4cc814f8",
   "metadata": {
    "ExecuteTime": {
     "end_time": "2022-03-13T09:54:48.456672Z",
     "start_time": "2022-03-13T09:54:48.440770Z"
    }
   },
   "outputs": [],
   "source": [
    "A1 = np.array([[0,1,0],[0,0,1],[1,0,0]]) \n",
    "A2 = np.array([[0,0,1],[0,1,0],[1,0,0]]) \n",
    "As = []\n",
    "for i in range(4):\n",
    "    As.append(A1)\n",
    "    As.append(A2)\n",
    "X=np.zeros((3,len(As)+1))\n",
    "X[:,0]=np.random.normal(size=3)\n",
    "for i in range(len(As)):\n",
    "    X[:,i+1]= As[i]@X[:,i] + 0.1*np.random.normal(size=3)"
   ]
  },
  {
   "cell_type": "code",
   "execution_count": 10,
   "id": "71aa903b",
   "metadata": {
    "ExecuteTime": {
     "end_time": "2022-03-13T10:08:31.511323Z",
     "start_time": "2022-03-13T10:08:31.482526Z"
    }
   },
   "outputs": [
    {
     "name": "stdout",
     "output_type": "stream",
     "text": [
      "A_1\n",
      "[[0 1 0]\n",
      " [0 0 1]\n",
      " [1 0 0]]\n",
      "A_1 estimate\n",
      "[[-0.         -0.          0.02097648]\n",
      " [-0.          0.         -0.        ]\n",
      " [ 0.23417376 -0.         -0.        ]]\n",
      "$$$$$$$$$$$$$$$$$$$$$$$$$$$$$$$$$$$$$$$$$\n",
      "A_2\n",
      "[[0 0 1]\n",
      " [0 1 0]\n",
      " [1 0 0]]\n",
      "A_2 estimate\n",
      "[[-0.         -0.          0.25147049]\n",
      " [-0.          0.         -0.        ]\n",
      " [ 0.2011685  -0.         -0.        ]]\n",
      "$$$$$$$$$$$$$$$$$$$$$$$$$$$$$$$$$$$$$$$$$\n",
      "A_3\n",
      "[[0 1 0]\n",
      " [0 0 1]\n",
      " [1 0 0]]\n",
      "A_3 estimate\n",
      "[[-0.         -0.          0.3127015 ]\n",
      " [-0.          0.         -0.        ]\n",
      " [ 0.32118661 -0.         -0.        ]]\n",
      "$$$$$$$$$$$$$$$$$$$$$$$$$$$$$$$$$$$$$$$$$\n",
      "A_4\n",
      "[[0 0 1]\n",
      " [0 1 0]\n",
      " [1 0 0]]\n",
      "A_4 estimate\n",
      "[[-0.         -0.          0.33300992]\n",
      " [-0.          0.         -0.        ]\n",
      " [ 0.37663888 -0.         -0.        ]]\n",
      "$$$$$$$$$$$$$$$$$$$$$$$$$$$$$$$$$$$$$$$$$\n",
      "A_5\n",
      "[[0 1 0]\n",
      " [0 0 1]\n",
      " [1 0 0]]\n",
      "A_5 estimate\n",
      "[[-0.         -0.          0.34120476]\n",
      " [-0.          0.         -0.        ]\n",
      " [ 0.40286671 -0.         -0.        ]]\n",
      "$$$$$$$$$$$$$$$$$$$$$$$$$$$$$$$$$$$$$$$$$\n",
      "A_6\n",
      "[[0 0 1]\n",
      " [0 1 0]\n",
      " [1 0 0]]\n",
      "A_6 estimate\n",
      "[[-0.         -0.          0.41199471]\n",
      " [-0.          0.         -0.        ]\n",
      " [ 0.39399967 -0.         -0.        ]]\n",
      "$$$$$$$$$$$$$$$$$$$$$$$$$$$$$$$$$$$$$$$$$\n",
      "A_7\n",
      "[[0 1 0]\n",
      " [0 0 1]\n",
      " [1 0 0]]\n",
      "A_7 estimate\n",
      "[[-0.         -0.          0.42679317]\n",
      " [ 0.          0.         -0.        ]\n",
      " [ 0.42475618 -0.         -0.        ]]\n",
      "$$$$$$$$$$$$$$$$$$$$$$$$$$$$$$$$$$$$$$$$$\n",
      "A_8\n",
      "[[0 0 1]\n",
      " [0 1 0]\n",
      " [1 0 0]]\n",
      "A_8 estimate\n",
      "[[-0.         0.         0.4956001]\n",
      " [ 0.         0.        -0.       ]\n",
      " [ 0.3109344 -0.        -0.       ]]\n",
      "$$$$$$$$$$$$$$$$$$$$$$$$$$$$$$$$$$$$$$$$$\n"
     ]
    }
   ],
   "source": [
    "lam=0.05\n",
    "h=2\n",
    "allA=tvdbn(X,h,lam)\n",
    "for i in range(len(As)):\n",
    "    print(f'A_{i+1}')\n",
    "    print(As[i])\n",
    "    print(f'A_{i+1} estimate')\n",
    "    print(allA[i])\n",
    "    print('$$$$$$$$$$$$$$$$$$$$$$$$$$$$$$$$$$$$$$$$$')"
   ]
  },
  {
   "cell_type": "code",
   "execution_count": null,
   "id": "1439da3a",
   "metadata": {},
   "outputs": [],
   "source": []
  }
 ],
 "metadata": {
  "kernelspec": {
   "display_name": "Python 3 (ipykernel)",
   "language": "python",
   "name": "python3"
  },
  "language_info": {
   "codemirror_mode": {
    "name": "ipython",
    "version": 3
   },
   "file_extension": ".py",
   "mimetype": "text/x-python",
   "name": "python",
   "nbconvert_exporter": "python",
   "pygments_lexer": "ipython3",
   "version": "3.7.7"
  }
 },
 "nbformat": 4,
 "nbformat_minor": 5
}
